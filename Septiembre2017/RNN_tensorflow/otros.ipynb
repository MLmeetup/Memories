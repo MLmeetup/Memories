{
 "cells": [
  {
   "cell_type": "markdown",
   "metadata": {},
   "source": [
    "# Otros elementos usados en la presentación"
   ]
  },
  {
   "cell_type": "code",
   "execution_count": 1,
   "metadata": {
    "collapsed": true
   },
   "outputs": [],
   "source": [
    "import os\n",
    "\n",
    "import pandas as pd\n",
    "import numpy as np\n",
    "import tensorflow as tf\n",
    "from sklearn.datasets import load_diabetes\n",
    "\n",
    "import matplotlib.pyplot as plt\n",
    "%matplotlib inline"
   ]
  },
  {
   "cell_type": "markdown",
   "metadata": {},
   "source": [
    "## Sumar dos números en Tensorflow"
   ]
  },
  {
   "cell_type": "code",
   "execution_count": 2,
   "metadata": {
    "collapsed": false
   },
   "outputs": [
    {
     "name": "stdout",
     "output_type": "stream",
     "text": [
      "11.0\n"
     ]
    }
   ],
   "source": [
    "graph = tf.Graph()\n",
    "with graph.as_default():\n",
    "    variable_1 = tf.placeholder(dtype=tf.float32)\n",
    "    variable_2 = tf.placeholder(dtype=tf.float32)\n",
    "    add = tf.add(variable_1, variable_2)\n",
    "    \n",
    "with tf.Session(graph=graph) as sess:\n",
    "    result = add.eval(feed_dict={variable_1:5, variable_2:6})\n",
    "    print(result)"
   ]
  },
  {
   "cell_type": "markdown",
   "metadata": {},
   "source": [
    "## Regresión lineal en Tensorflow"
   ]
  },
  {
   "cell_type": "code",
   "execution_count": 3,
   "metadata": {
    "collapsed": true
   },
   "outputs": [],
   "source": [
    "X_, y_ = load_diabetes(return_X_y=True)"
   ]
  },
  {
   "cell_type": "code",
   "execution_count": 4,
   "metadata": {
    "collapsed": false
   },
   "outputs": [
    {
     "name": "stdout",
     "output_type": "stream",
     "text": [
      "(442, 10)\n",
      "(442,)\n"
     ]
    }
   ],
   "source": [
    "print(X_.shape)\n",
    "print(y_.shape)"
   ]
  },
  {
   "cell_type": "code",
   "execution_count": 5,
   "metadata": {
    "collapsed": true
   },
   "outputs": [],
   "source": [
    "n_epochs = 50000\n",
    "batch_size = 300"
   ]
  },
  {
   "cell_type": "markdown",
   "metadata": {},
   "source": [
    "**Descripción del modelo:**\n",
    "1. Existen variables de entrada $x$ y de salida $y$\n",
    "2. Existen los pesos de las pendientes del modelo y el intercepto\n",
    "3. La predicción en la operación $y = X^{T}\\beta + [\\beta_{0}]$\n",
    "4. El error es el MSE entre la predicción y la salida\n",
    "5. El aprendizaje consiste en minimizar el error."
   ]
  },
  {
   "cell_type": "code",
   "execution_count": 6,
   "metadata": {
    "collapsed": false
   },
   "outputs": [],
   "source": [
    "graph_regression = tf.Graph()\n",
    "with graph_regression.as_default():\n",
    "    X = tf.placeholder(dtype=tf.float32, shape=(batch_size,10), name='X')\n",
    "    y = tf.placeholder(dtype=tf.float32, shape=(batch_size), name='y')\n",
    "    \n",
    "    betas = tf.Variable(initial_value=tf.random_normal(shape=(10,1)),\n",
    "                        trainable=True,\n",
    "                        name='betas',\n",
    "                        dtype=tf.float32)\n",
    "    \n",
    "    bias = tf.Variable(initial_value=tf.ones(shape=(batch_size,1)),\n",
    "                        trainable=True,\n",
    "                        name='bias',\n",
    "                        dtype=tf.float32)\n",
    "    \n",
    "    outputs = tf.add(tf.matmul(X, betas),bias)\n",
    "    \n",
    "    loss = tf.reduce_mean(tf.squared_difference(outputs, y))\n",
    "    optimizer = tf.train.GradientDescentOptimizer(learning_rate=0.01)\n",
    "    training_op = optimizer.minimize(loss)\n",
    "    \n",
    "    init = tf.global_variables_initializer()"
   ]
  },
  {
   "cell_type": "code",
   "execution_count": 7,
   "metadata": {
    "collapsed": false,
    "scrolled": true
   },
   "outputs": [
    {
     "name": "stdout",
     "output_type": "stream",
     "text": [
      "-----------Enternando modelo------------\n",
      "0 \tMSE: 30392.9\n",
      "5000 \tMSE: 16681.0\n",
      "10000 \tMSE: 10387.9\n",
      "15000 \tMSE: 9363.94\n",
      "20000 \tMSE: 6468.13\n",
      "25000 \tMSE: 6850.34\n",
      "30000 \tMSE: 6160.1\n",
      "35000 \tMSE: 6157.16\n",
      "40000 \tMSE: 5878.01\n",
      "45000 \tMSE: 6514.23\n"
     ]
    }
   ],
   "source": [
    "with tf.Session(graph=graph_regression) as sess:\n",
    "    init.run() # Inicializar las variables del gráfico\n",
    "    print('{:-^40}'.format('Enternando modelo'))\n",
    "    for epoch in range(n_epochs):\n",
    "        indices = np.random.randint(0, X_.shape[0], size=(batch_size,))\n",
    "        X_batch, y_batch = X_[indices], y_[indices]\n",
    "        sess.run(training_op, feed_dict={X: X_batch, y: y_batch})\n",
    "        if epoch % int(n_epochs*0.1) == 0:\n",
    "            mse = loss.eval(feed_dict={X: X_batch, y: y_batch})\n",
    "            print(epoch, '\\tMSE:', mse)\n"
   ]
  },
  {
   "cell_type": "markdown",
   "metadata": {},
   "source": [
    "## Cambiando los datos al formato [batch_size, # steps, # variables]\n",
    "En el *Notebook* principal se usa la siguiente función para poner los batches de entrenamiento en el formato correcto. Acá se explica cómo"
   ]
  },
  {
   "cell_type": "code",
   "execution_count": 8,
   "metadata": {
    "collapsed": true
   },
   "outputs": [],
   "source": [
    "def get_next_batch(X, Y, n_steps, batch_size=100):\n",
    "    \"\"\"     \n",
    "    Args:\n",
    "        X (np.ndarray): matrix of predictor variables\n",
    "        Y (np.ndarray): 2d ndarray of predicted variables\n",
    "        n_steps (int): number of steps to considere in the series\n",
    "        batch_size (int): size of the batch to be returned.\n",
    "                \n",
    "    Returns:\n",
    "        X_batch: A tensor of shape (batch_size, # steps, # inputs),\n",
    "            which corresponds to a batch of predictor variables\n",
    "            along several steps.\n",
    "        Y: A tensor of shape (batch_size, # steps, # outputs),\n",
    "            which corresponds to a batch of predicted variables\n",
    "            along several steps.\n",
    "    \"\"\"\n",
    "    index_0 = np.random.choice(\n",
    "        X.shape[0] - n_steps, size=(batch_size,1), replace=False)\n",
    "    indices = index_0 + np.arange(n_steps)\n",
    "    return X[indices], Y[indices]"
   ]
  },
  {
   "cell_type": "code",
   "execution_count": 9,
   "metadata": {
    "collapsed": false
   },
   "outputs": [
    {
     "data": {
      "text/plain": [
       "array([[ 0.95628874,  0.46109036, -1.18836774, -0.88171134],\n",
       "       [ 0.4739228 , -0.37956843, -0.61093313,  0.70074794],\n",
       "       [-0.539741  ,  0.63705301,  0.83633552,  0.72377667],\n",
       "       [-0.72210441, -1.31281994,  0.62717075, -1.40939333],\n",
       "       [-1.31423252, -0.30414795,  0.01506381,  0.04958471],\n",
       "       [-0.24745682,  1.89165006, -0.39531556,  0.47925102],\n",
       "       [-0.58237934,  0.20925897, -1.03659447, -0.52004873],\n",
       "       [ 2.55642911, -1.50982291, -0.56283104,  0.95609711],\n",
       "       [ 0.26601176, -1.0804196 , -0.75975877,  0.50996896],\n",
       "       [ 0.04437105, -0.84419167, -1.68634854,  0.29861075]])"
      ]
     },
     "execution_count": 9,
     "metadata": {},
     "output_type": "execute_result"
    }
   ],
   "source": [
    "n_steps = 2\n",
    "batch_size = 3\n",
    "X = np.random.randn(10,4)\n",
    "X"
   ]
  },
  {
   "cell_type": "markdown",
   "metadata": {},
   "source": [
    "Los datos originales vienen en la forma (#observaciones, #variables). De ahí se debe seleccionar aleatoriamente un conjunto de datos correspondiente al tamaño del batch. Esto puede hacerse fácilmente seleccionando aleatoriamente los índices de los que se deben extraer las observaciones correspondientes a un batch."
   ]
  },
  {
   "cell_type": "code",
   "execution_count": 10,
   "metadata": {
    "collapsed": false
   },
   "outputs": [
    {
     "data": {
      "text/plain": [
       "array([[9],\n",
       "       [7],\n",
       "       [1]])"
      ]
     },
     "execution_count": 10,
     "metadata": {},
     "output_type": "execute_result"
    }
   ],
   "source": [
    "index = np.random.choice(X.shape[0], size=(batch_size,1), replace=False)\n",
    "index"
   ]
  },
  {
   "cell_type": "markdown",
   "metadata": {},
   "source": [
    "y luego usar estos índices para seleccionar los datos"
   ]
  },
  {
   "cell_type": "code",
   "execution_count": 11,
   "metadata": {
    "collapsed": false
   },
   "outputs": [
    {
     "name": "stdout",
     "output_type": "stream",
     "text": [
      "(3, 1, 4)\n"
     ]
    },
    {
     "data": {
      "text/plain": [
       "array([[[ 0.04437105, -0.84419167, -1.68634854,  0.29861075]],\n",
       "\n",
       "       [[ 2.55642911, -1.50982291, -0.56283104,  0.95609711]],\n",
       "\n",
       "       [[ 0.4739228 , -0.37956843, -0.61093313,  0.70074794]]])"
      ]
     },
     "execution_count": 11,
     "metadata": {},
     "output_type": "execute_result"
    }
   ],
   "source": [
    "print(X[index].shape)\n",
    "X[index]"
   ]
  },
  {
   "cell_type": "markdown",
   "metadata": {},
   "source": [
    "Sin embargo, esto solo aplica para cuando el modelo no incluye una ventana de tiempo en los datos. Para incluir la ventana de tiempo, es necesario que los índices incluyan los índices de la ventana de tiempo:"
   ]
  },
  {
   "cell_type": "code",
   "execution_count": 12,
   "metadata": {
    "collapsed": false
   },
   "outputs": [
    {
     "data": {
      "text/plain": [
       "array([[1, 2],\n",
       "       [6, 7],\n",
       "       [0, 1]])"
      ]
     },
     "execution_count": 12,
     "metadata": {},
     "output_type": "execute_result"
    }
   ],
   "source": [
    "index_0 = np.random.choice(\n",
    "    X.shape[0] - n_steps, size=(batch_size,1), replace=False)\n",
    "indices = index_0 + np.arange(n_steps)\n",
    "indices"
   ]
  },
  {
   "cell_type": "markdown",
   "metadata": {},
   "source": [
    "Al seleccionar de estos índices, obtenemos un tensor en el formato requerido por el modelo: (batch_size, #steps, #variables)"
   ]
  },
  {
   "cell_type": "code",
   "execution_count": 13,
   "metadata": {
    "collapsed": false,
    "scrolled": true
   },
   "outputs": [
    {
     "name": "stdout",
     "output_type": "stream",
     "text": [
      "(3, 2, 4)\n"
     ]
    },
    {
     "data": {
      "text/plain": [
       "array([[[ 0.4739228 , -0.37956843, -0.61093313,  0.70074794],\n",
       "        [-0.539741  ,  0.63705301,  0.83633552,  0.72377667]],\n",
       "\n",
       "       [[-0.58237934,  0.20925897, -1.03659447, -0.52004873],\n",
       "        [ 2.55642911, -1.50982291, -0.56283104,  0.95609711]],\n",
       "\n",
       "       [[ 0.95628874,  0.46109036, -1.18836774, -0.88171134],\n",
       "        [ 0.4739228 , -0.37956843, -0.61093313,  0.70074794]]])"
      ]
     },
     "execution_count": 13,
     "metadata": {},
     "output_type": "execute_result"
    }
   ],
   "source": [
    "print(X[indices].shape)\n",
    "X[indices]"
   ]
  }
 ],
 "metadata": {
  "kernelspec": {
   "display_name": "Python 3",
   "language": "python",
   "name": "python3"
  },
  "language_info": {
   "codemirror_mode": {
    "name": "ipython",
    "version": 3
   },
   "file_extension": ".py",
   "mimetype": "text/x-python",
   "name": "python",
   "nbconvert_exporter": "python",
   "pygments_lexer": "ipython3",
   "version": "3.5.2"
  }
 },
 "nbformat": 4,
 "nbformat_minor": 2
}
